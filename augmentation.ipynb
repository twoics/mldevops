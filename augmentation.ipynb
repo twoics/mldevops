{
 "cells": [
  {
   "cell_type": "code",
   "execution_count": 4,
   "metadata": {},
   "outputs": [],
   "source": [
    "from pathlib import Path\n",
    "from PIL import Image\n",
    "from itertools import chain"
   ]
  },
  {
   "cell_type": "code",
   "execution_count": 5,
   "metadata": {},
   "outputs": [],
   "source": [
    "def augmentate(filepath):\n",
    "    img = Image.open(filepath)\n",
    "    img_rotated_90 = img.rotate(90, expand=True)\n",
    "    img_rotated_90.save(filepath.parents[0] / (filepath.stem + '_aug.jpg'))"
   ]
  },
  {
   "cell_type": "code",
   "execution_count": 6,
   "metadata": {},
   "outputs": [],
   "source": [
    "sections = ('evaluation', 'training', 'validation')\n",
    "categories = ('food', 'non_food')\n",
    "for filepath in chain(*[Path(f'data/{section}/{category}').iterdir() for section in sections for category in categories]):\n",
    "    if filepath.suffix == '.jpg' and not filepath.name.endswith('_aug'):\n",
    "        augmentate(filepath)"
   ]
  }
 ],
 "metadata": {
  "kernelspec": {
   "display_name": "Python 3",
   "language": "python",
   "name": "python3"
  },
  "language_info": {
   "codemirror_mode": {
    "name": "ipython",
    "version": 3
   },
   "file_extension": ".py",
   "mimetype": "text/x-python",
   "name": "python",
   "nbconvert_exporter": "python",
   "pygments_lexer": "ipython3",
   "version": "3.10.4"
  }
 },
 "nbformat": 4,
 "nbformat_minor": 2
}
